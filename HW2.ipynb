{
 "cells": [
  {
   "cell_type": "code",
   "execution_count": 39,
   "metadata": {},
   "outputs": [
    {
     "name": "stdout",
     "output_type": "stream",
     "text": [
      "µ= 1.560068324160182 σ= 0.8265842980736919\n"
     ]
    }
   ],
   "source": [
    "#Problem #2\n",
    "import numpy\n",
    "µ=numpy.array([1,2,3,4,5])\n",
    "σ=numpy.array([1,2,3,4,5])\n",
    "def Normal_Distribution_Calculator(µ,σ):\n",
    "    l=µ[0]\n",
    "    k=σ[0]\n",
    "    p=0\n",
    "    for i in range(σ.size-1):\n",
    "        #print((l*y[p+1]**2+x[p+1]*k**2)/(k**2+y[p+1]**2), (y[p+1]*k)/numpy.sqrt(k**2+y[p+1]**2))\n",
    "        l= (l*σ[p+1]**2+µ[p+1]*k**2)/(k**2+σ[p+1]**2)\n",
    "        k= (σ[p+1]*k)/numpy.sqrt(k**2+σ[p+1]**2)\n",
    "        p += 1\n",
    "    print(\"µ=\",l,\"σ=\",k)\n",
    "        \n",
    "Normal_Distribution_Calculator(µ,σ)"
   ]
  },
  {
   "cell_type": "code",
   "execution_count": 12,
   "metadata": {},
   "outputs": [
    {
     "data": {
      "image/png": "[encoded data removed]",
      "text/plain": [
       "<Figure size 432x288 with 1 Axes>"
      ]
     },
     "metadata": {},
     "output_type": "display_data"
    }
   ],
   "source": [
    "#Problem #1\n",
    "#We have to find p(Ax| X1, X2, X3, X4, X5, X6, X7, X8, X9, X10, X11) (The probability distribution of the average amount of car accidents in an hour given the measurements in Table 1)\n",
    "#From Bayes Theorem we can get p(Ax| X1, X2, X3, X4, X5, X6, X7, X8, X9, X10, X11) ∝ p(X1, X2, X3, X4, X5, X6, X7, X8, X9, X10, X11 | Ax)\n",
    "#Assumptions:\n",
    "#1.Bayesian statistics works\n",
    "#2.The measurements in Table 1 are independent\n",
    "#3.The measurements follow a random Guassian distribution with μ=λ, and σ**2=λ\n",
    "#4.We assume a uniform distribution as a prior\n",
    "#5.The chance of an accident at any hour of the day is the same\n",
    "\n",
    "#We can now take the product of all the guassian distributions able to be contructed from Table #1 by using the function generated in Problem #2\n",
    "import numpy\n",
    "import matplotlib.pyplot as plt\n",
    "def Normal_Distribution_Calculator(µ,σ):\n",
    "    l=µ[0]\n",
    "    k=σ[0]\n",
    "    p=0\n",
    "    for i in range(σ.size-1):\n",
    "        #print((l*y[p+1]**2+x[p+1]*k**2)/(k**2+y[p+1]**2), (y[p+1]*k)/numpy.sqrt(k**2+y[p+1]**2))\n",
    "        l= (l*σ[p+1]**2+µ[p+1]*k**2)/(k**2+σ[p+1]**2)\n",
    "        k= (σ[p+1]*k)/numpy.sqrt(k**2+σ[p+1]**2)\n",
    "        p += 1\n",
    "    return(l,k)\n",
    "    \n",
    "Normal_Distribution_Calculator(numpy.array([16,24,16,12,16,11,14,15,9,14,7]), numpy.array([4,4.899,4,3.464,4,3.317,3.742,3.873,3,3.742,2.646]))\n",
    "\n",
    "def Gaussian_prob(x, _mu=0, _sigma=1):\n",
    "    return (1/numpy.sqrt(2*numpy.pi*_sigma**2))*numpy.exp(-(x-_mu)**2/(2*_sigma**2))\n",
    "\n",
    "x_span = numpy.linspace(0,20, 1000)\n",
    "mu, sigma = Normal_Distribution_Calculator(numpy.array([16,24,16,12,16,11,14,15,9,14,7]), numpy.array([4,4.899,4,3.464,4,3.317,3.742,3.873,3,3.742,2.646]))\n",
    "\n",
    "prob_np_array = Gaussian_prob(x_span, mu, sigma)\n",
    "\n",
    "plt.plot(x_span, prob_np_array)\n",
    "\n",
    "plt.title(\"Gaussian Distribution for $\\mu=$ {} , and $\\sigma=$ {}\".format(mu, sigma))\n",
    "plt.xlabel(r\"x\")\n",
    "plt.ylabel(r\"$P(x|\\mu, \\sigma)$\")\n",
    "\n",
    "plt.show()\n"
   ]
  }
 ],
 "metadata": {
  "kernelspec": {
   "display_name": "Python 3",
   "language": "python",
   "name": "python3"
  },
  "language_info": {
   "codemirror_mode": {
    "name": "ipython",
    "version": 3
   },
   "file_extension": ".py",
   "mimetype": "text/x-python",
   "name": "python",
   "nbconvert_exporter": "python",
   "pygments_lexer": "ipython3",
   "version": "3.6.5"
  }
 },
 "nbformat": 4,
 "nbformat_minor": 2
}
