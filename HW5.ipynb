{
 "cells": [
  {
   "cell_type": "code",
   "execution_count": 6,
   "metadata": {},
   "outputs": [
    {
     "name": "stderr",
     "output_type": "stream",
     "text": [
      "C:\\Users\\Omar Syed\\Anaconda3\\lib\\site-packages\\ipykernel_launcher.py:41: DataConversionWarning: Data with input dtype int8, int64, float64 were all converted to float64 by the scale function.\n",
      "C:\\Users\\Omar Syed\\Anaconda3\\lib\\site-packages\\sklearn\\utils\\validation.py:595: DataConversionWarning: Data with input dtype int8 was converted to float64 by the scale function.\n",
      "  warnings.warn(msg, DataConversionWarning)\n",
      "C:\\Users\\Omar Syed\\Anaconda3\\lib\\site-packages\\ipykernel_launcher.py:43: DataConversionWarning: Data with input dtype int8, float64 were all converted to float64 by the scale function.\n",
      "C:\\Users\\Omar Syed\\Anaconda3\\lib\\site-packages\\sklearn\\utils\\validation.py:595: DataConversionWarning: Data with input dtype int8 was converted to float64 by the scale function.\n",
      "  warnings.warn(msg, DataConversionWarning)\n"
     ]
    },
    {
     "name": "stdout",
     "output_type": "stream",
     "text": [
      "Accuracy for SVM: 0.7955285301885634\n",
      "Accuracy for Random Forest: 0.8471838339168356\n"
     ]
    }
   ],
   "source": [
    "import sklearn\n",
    "import pandas\n",
    "import matplotlib.pyplot as plt\n",
    "import numpy as np\n",
    "\n",
    "test_data_orig = pandas.read_csv('adult-test.csv', sep=',', names = ['Age','Workclass','fnlgwt','Education','Education Num','Marital Status','Occupation','Relationship','Race','Sex','Capital Gain','Capital Loss','Hours/Week','Country','Above/Below 50K'])\n",
    "training_data = pandas.read_csv('adult.csv', sep=',', names= ['Age','Workclass','fnlgwt','Education','Education Num','Marital Status','Occupation','Relationship','Race','Sex','Capital Gain','Capital Loss','Hours/Week','Country','Above/Below 50K'])\n",
    "#pulling data from from test csv file and training csv files and assigning them to columns with actual headers\n",
    "\n",
    "#training_data.isnull().sum()\n",
    "#test_data_orig.isnull().sum()\n",
    "test_data = test_data_orig.dropna(how='any',axis=0) \n",
    "#test_data.isnull().sum()\n",
    "#removing any missing data from dataset\n",
    "\n",
    "\n",
    "testdata = test_data.astype({\"Age\": float, \"Workclass\": 'category', \"Education\": 'category', \"Marital Status\": 'category', \"Occupation\": 'category', \"Relationship\": 'category', \"Race\": 'category', \"Sex\": 'category', \"Country\": 'category', \"Above/Below 50K\": 'category'})\n",
    "trainingdata = training_data.astype({\"Age\": float, \"Workclass\": 'category', \"Education\": 'category', \"Marital Status\": 'category', \"Occupation\": 'category', \"Relationship\": 'category', \"Race\": 'category', \"Sex\": 'category', \"Country\": 'category', \"Above/Below 50K\": 'category'})\n",
    "#assigning data to proper datatypes so that encoding them from categories to numbers will be easier\n",
    "\n",
    "#trainingdata.dtypes\n",
    "\n",
    "\n",
    "cat_columns = testdata.select_dtypes(['category']).columns\n",
    "cat_columns1 = trainingdata.select_dtypes(['category']).columns\n",
    "#cat_columns1\n",
    "#seperating the columns with data type \"category\" from the other columns so that they can be encoded\n",
    "\n",
    "testdata[cat_columns] = testdata[cat_columns].apply(lambda x: x.cat.codes)\n",
    "trainingdata[cat_columns1] = trainingdata[cat_columns].apply(lambda x: x.cat.codes)\n",
    "#trainingdata\n",
    "#encoding the data to numerical values\n",
    "\n",
    "from sklearn import preprocessing\n",
    "\n",
    "# test = preprocessing.scale(testdata)\n",
    "# train = preprocessing.scale(trainingdata)\n",
    "\n",
    "Xtrain = trainingdata.drop('Above/Below 50K', axis=1)\n",
    "ytrain = trainingdata['Above/Below 50K']\n",
    "Xtest = testdata.drop('Above/Below 50K', axis=1)\n",
    "ytest = testdata['Above/Below 50K']\n",
    "\n",
    "#setting training set and test set input parameters and output values\n",
    "\n",
    "\n",
    "X_train = preprocessing.scale(Xtrain)\n",
    "y_train = preprocessing.scale(ytrain)\n",
    "X_test = preprocessing.scale(Xtest)\n",
    "y_test = preprocessing.scale(ytest)\n",
    "\n",
    "#scaling data for better svm results\n",
    "\n",
    "y_train_int=y_train.astype(int)\n",
    "y_test_int=y_test.astype(int)\n",
    "\n",
    "#converting outputs to integers since sklearn was having trouble interpreting them\n",
    "\n",
    "#y_train_int.dtype\n",
    "\n",
    "#np.shape(ytest)\n",
    "\n",
    "from sklearn.svm import SVC\n",
    "svclassifier = SVC(kernel='poly')\n",
    "#the poly kernel produced the best results from what I could tell\n",
    "svclassifier.fit(X_train, y_train_int)\n",
    "#fitting data to support vector classifier from sklearn\n",
    "\n",
    "y_pred = svclassifier.predict(Xtest)\n",
    "#prediciting values from test set based off trained algorithm\n",
    "\n",
    "from sklearn import metrics\n",
    "\n",
    "print(\"Accuracy for SVM:\",metrics.accuracy_score(y_test_int, y_pred))\n",
    "\n",
    "#getting accuracy from comparing results recieved from algorithm and actual values\n",
    "\n",
    "\n",
    "from sklearn.ensemble import RandomForestClassifier\n",
    "rfc = RandomForestClassifier(n_jobs=-1, n_estimators=10)\n",
    "rfc.fit(X_train, y_train_int)\n",
    "print (\"Accuracy for Random Forest:\",rfc.score(X_test, y_test_int))\n",
    "\n",
    "#running the data through sklearn random forest classifier to compare results.\n",
    "#As we can see from the results that with encoding and scaling the data we did produce ok results with SVM, however, random forest classifier still produced better results."
   ]
  },
  {
   "cell_type": "code",
   "execution_count": null,
   "metadata": {},
   "outputs": [],
   "source": []
  }
 ],
 "metadata": {
  "kernelspec": {
   "display_name": "Python 3",
   "language": "python",
   "name": "python3"
  },
  "language_info": {
   "codemirror_mode": {
    "name": "ipython",
    "version": 3
   },
   "file_extension": ".py",
   "mimetype": "text/x-python",
   "name": "python",
   "nbconvert_exporter": "python",
   "pygments_lexer": "ipython3",
   "version": "3.6.8"
  }
 },
 "nbformat": 4,
 "nbformat_minor": 2
}
